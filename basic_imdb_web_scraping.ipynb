{
 "cells": [
  {
   "cell_type": "code",
   "execution_count": 1,
   "metadata": {},
   "outputs": [],
   "source": [
    "import requests\n",
    "from requests import get\n",
    "from bs4 import BeautifulSoup\n",
    "import pandas as pd\n",
    "import numpy as np"
   ]
  },
  {
   "cell_type": "code",
   "execution_count": 2,
   "metadata": {},
   "outputs": [],
   "source": [
    "headers = {\"Accept-Language\": \"en-US, en;q=0.5\"}\n",
    "url = \"https://www.imdb.com/search/title/?groups=top_1000&ref_=adv_prv\"\n",
    "results = requests.get(url, headers=headers)"
   ]
  },
  {
   "cell_type": "code",
   "execution_count": 3,
   "metadata": {},
   "outputs": [],
   "source": [
    "soup = BeautifulSoup(results.text, \"html.parser\")"
   ]
  },
  {
   "cell_type": "code",
   "execution_count": 4,
   "metadata": {},
   "outputs": [],
   "source": [
    "def parse_movie(foobar):\n",
    "    def get_title(foobar):\n",
    "        return foobar.h3.a.text\n",
    "    \n",
    "    def get_year(foobar):\n",
    "        return foobar.h3.find('span', class_='lister-item-year').text\n",
    "    \n",
    "    def get_runtime(foobar):\n",
    "        return foobar.find('span', class_='runtime').text if foobar.p.find('span', class_='runtime') else None\n",
    "    \n",
    "    def get_imdb_rating(foobar):\n",
    "        return float(foobar.strong.text)\n",
    "    \n",
    "    def get_metascore(foobar):\n",
    "        return foobar.find('span', class_='metascore').text if foobar.find('span', class_='metascore') else None\n",
    "    \n",
    "    def get_votes(foobar):\n",
    "        nv = foobar.find_all('span', attrs={'name': 'nv'})\n",
    "        return nv[0].text\n",
    "    \n",
    "    def get_gross(foobar):\n",
    "        nv = foobar.find_all('span', attrs={'name': 'nv'})\n",
    "        return nv[1].text if len(nv) > 1 else ''  \n",
    "    \n",
    "    return {\n",
    "        'title': get_title(foobar),\n",
    "        'year': get_year(foobar),\n",
    "        'runtime': get_runtime(foobar),\n",
    "        'imdb_rating': get_imdb_rating(foobar),\n",
    "        'meta_score': get_metascore(foobar),\n",
    "        'votes': get_votes(foobar),\n",
    "        'us_gross': get_gross(foobar)}\n"
   ]
  },
  {
   "cell_type": "code",
   "execution_count": 5,
   "metadata": {},
   "outputs": [],
   "source": [
    "movies = [parse_movie(foo) for foo in soup.find_all('div', class_='lister-item mode-advanced')]"
   ]
  },
  {
   "cell_type": "code",
   "execution_count": 6,
   "metadata": {},
   "outputs": [
    {
     "name": "stdout",
     "output_type": "stream",
     "text": [
      "[{'title': 'Soul', 'year': '(2020)', 'runtime': '100 min', 'imdb_rating': 8.2, 'meta_score': '85        ', 'votes': '60,121', 'us_gross': ''}, {'title': \"It's a Wonderful Life\", 'year': '(1946)', 'runtime': '130 min', 'imdb_rating': 8.6, 'meta_score': '89        ', 'votes': '401,027', 'us_gross': ''}, {'title': 'Home Alone', 'year': '(1990)', 'runtime': '103 min', 'imdb_rating': 7.6, 'meta_score': '63        ', 'votes': '478,684', 'us_gross': '$285.76M'}, {'title': 'A Christmas Story', 'year': '(1983)', 'runtime': '93 min', 'imdb_rating': 7.9, 'meta_score': '77        ', 'votes': '131,737', 'us_gross': '$20.61M'}, {'title': 'Die Hard', 'year': '(1988)', 'runtime': '132 min', 'imdb_rating': 8.2, 'meta_score': '72        ', 'votes': '785,798', 'us_gross': '$83.01M'}, {'title': 'Klaus', 'year': '(2019)', 'runtime': '96 min', 'imdb_rating': 8.2, 'meta_score': '65        ', 'votes': '96,936', 'us_gross': ''}, {'title': 'The Sound of Music', 'year': '(1965)', 'runtime': '172 min', 'imdb_rating': 8.0, 'meta_score': '63        ', 'votes': '202,552', 'us_gross': '$163.21M'}, {'title': 'The Muppet Christmas Carol', 'year': '(1992)', 'runtime': '85 min', 'imdb_rating': 7.7, 'meta_score': '64        ', 'votes': '49,747', 'us_gross': '$27.28M'}, {'title': \"Harry Potter and the Sorcerer's Stone\", 'year': '(2001)', 'runtime': '152 min', 'imdb_rating': 7.6, 'meta_score': '64        ', 'votes': '649,345', 'us_gross': '$317.58M'}, {'title': 'The Gentlemen', 'year': '(2019)', 'runtime': '113 min', 'imdb_rating': 7.8, 'meta_score': '51        ', 'votes': '221,377', 'us_gross': ''}, {'title': 'The Godfather', 'year': '(1972)', 'runtime': '175 min', 'imdb_rating': 9.2, 'meta_score': '100        ', 'votes': '1,606,112', 'us_gross': '$134.97M'}, {'title': 'Knives Out', 'year': '(2019)', 'runtime': '130 min', 'imdb_rating': 7.9, 'meta_score': '82        ', 'votes': '434,942', 'us_gross': '$165.36M'}, {'title': 'The Nightmare Before Christmas', 'year': '(1993)', 'runtime': '76 min', 'imdb_rating': 8.0, 'meta_score': '82        ', 'votes': '298,397', 'us_gross': '$75.08M'}, {'title': 'Miracle on 34th Street', 'year': '(1947)', 'runtime': '96 min', 'imdb_rating': 7.9, 'meta_score': '88        ', 'votes': '41,166', 'us_gross': '$2.65M'}, {'title': '1917', 'year': '(2019)', 'runtime': '119 min', 'imdb_rating': 8.3, 'meta_score': '78        ', 'votes': '407,897', 'us_gross': '$159.23M'}, {'title': 'The Lord of the Rings: The Fellowship of the Ring', 'year': '(2001)', 'runtime': '178 min', 'imdb_rating': 8.8, 'meta_score': '92        ', 'votes': '1,648,374', 'us_gross': '$315.54M'}, {'title': 'Parasite', 'year': '(2019)', 'runtime': '132 min', 'imdb_rating': 8.6, 'meta_score': '96        ', 'votes': '528,512', 'us_gross': '$53.37M'}, {'title': 'Little Women', 'year': '(2019)', 'runtime': '135 min', 'imdb_rating': 7.8, 'meta_score': '91        ', 'votes': '137,562', 'us_gross': '$108.10M'}, {'title': 'Rogue One: A Star Wars Story', 'year': '(2016)', 'runtime': '133 min', 'imdb_rating': 7.8, 'meta_score': '65        ', 'votes': '550,923', 'us_gross': '$532.18M'}, {'title': 'Avengers: Endgame', 'year': '(2019)', 'runtime': '181 min', 'imdb_rating': 8.4, 'meta_score': '78        ', 'votes': '792,704', 'us_gross': '$858.37M'}, {'title': 'Interstellar', 'year': '(2014)', 'runtime': '169 min', 'imdb_rating': 8.6, 'meta_score': '74        ', 'votes': '1,495,066', 'us_gross': '$188.02M'}, {'title': 'Star Wars: Episode IV - A New Hope', 'year': '(1977)', 'runtime': '121 min', 'imdb_rating': 8.6, 'meta_score': '90        ', 'votes': '1,223,340', 'us_gross': '$322.74M'}, {'title': 'The Shawshank Redemption', 'year': '(1994)', 'runtime': '142 min', 'imdb_rating': 9.3, 'meta_score': '80        ', 'votes': '2,324,771', 'us_gross': '$28.34M'}, {'title': 'Inception', 'year': '(2010)', 'runtime': '148 min', 'imdb_rating': 8.8, 'meta_score': '74        ', 'votes': '2,050,165', 'us_gross': '$292.58M'}, {'title': 'Once Upon a Time... In Hollywood', 'year': '(2019)', 'runtime': '161 min', 'imdb_rating': 7.6, 'meta_score': '83        ', 'votes': '538,833', 'us_gross': '$142.50M'}, {'title': 'The Wolf of Wall Street', 'year': '(2013)', 'runtime': '180 min', 'imdb_rating': 8.2, 'meta_score': '75        ', 'votes': '1,171,872', 'us_gross': '$116.90M'}, {'title': 'Forrest Gump', 'year': '(1994)', 'runtime': '142 min', 'imdb_rating': 8.8, 'meta_score': '82        ', 'votes': '1,793,548', 'us_gross': '$330.25M'}, {'title': 'The Wizard of Oz', 'year': '(1939)', 'runtime': '102 min', 'imdb_rating': 8.0, 'meta_score': '92        ', 'votes': '370,145', 'us_gross': '$2.08M'}, {'title': 'Joker', 'year': '(2019)', 'runtime': '122 min', 'imdb_rating': 8.5, 'meta_score': '59        ', 'votes': '917,899', 'us_gross': '$335.45M'}, {'title': 'The Trial of the Chicago 7', 'year': '(2020)', 'runtime': '129 min', 'imdb_rating': 7.8, 'meta_score': '77        ', 'votes': '75,195', 'us_gross': ''}, {'title': 'Spider-Man: Into the Spider-Verse', 'year': '(2018)', 'runtime': '117 min', 'imdb_rating': 8.4, 'meta_score': '87        ', 'votes': '366,610', 'us_gross': '$190.24M'}, {'title': 'Jojo Rabbit', 'year': '(2019)', 'runtime': '108 min', 'imdb_rating': 7.9, 'meta_score': '58        ', 'votes': '287,347', 'us_gross': '$0.35M'}, {'title': 'Harry Potter and the Goblet of Fire', 'year': '(2005)', 'runtime': '157 min', 'imdb_rating': 7.7, 'meta_score': '81        ', 'votes': '543,643', 'us_gross': '$290.01M'}, {'title': 'Hamilton', 'year': '(2020)', 'runtime': '160 min', 'imdb_rating': 8.6, 'meta_score': '90        ', 'votes': '50,990', 'us_gross': ''}, {'title': 'The Dark Knight', 'year': '(2008)', 'runtime': '152 min', 'imdb_rating': 9.0, 'meta_score': '84        ', 'votes': '2,286,597', 'us_gross': '$534.86M'}, {'title': 'Titanic', 'year': '(1997)', 'runtime': '194 min', 'imdb_rating': 7.8, 'meta_score': '75        ', 'votes': '1,039,245', 'us_gross': '$659.33M'}, {'title': 'Inglourious Basterds', 'year': '(2009)', 'runtime': '153 min', 'imdb_rating': 8.3, 'meta_score': '69        ', 'votes': '1,256,793', 'us_gross': '$120.54M'}, {'title': 'Star Wars: Episode VI - Return of the Jedi', 'year': '(1983)', 'runtime': '131 min', 'imdb_rating': 8.3, 'meta_score': '58        ', 'votes': '943,956', 'us_gross': '$309.13M'}, {'title': 'Pulp Fiction', 'year': '(1994)', 'runtime': '154 min', 'imdb_rating': 8.9, 'meta_score': '94        ', 'votes': '1,813,245', 'us_gross': '$107.93M'}, {'title': 'The Matrix', 'year': '(1999)', 'runtime': '136 min', 'imdb_rating': 8.7, 'meta_score': '73        ', 'votes': '1,663,731', 'us_gross': '$171.48M'}, {'title': 'Back to the Future', 'year': '(1985)', 'runtime': '116 min', 'imdb_rating': 8.5, 'meta_score': '87        ', 'votes': '1,049,819', 'us_gross': '$210.61M'}, {'title': 'Catch Me If You Can', 'year': '(2002)', 'runtime': '141 min', 'imdb_rating': 8.1, 'meta_score': '75        ', 'votes': '821,648', 'us_gross': '$164.62M'}, {'title': 'The Prestige', 'year': '(2006)', 'runtime': '130 min', 'imdb_rating': 8.5, 'meta_score': '66        ', 'votes': '1,180,765', 'us_gross': '$53.09M'}, {'title': 'Deadpool', 'year': '(2016)', 'runtime': '108 min', 'imdb_rating': 8.0, 'meta_score': '65        ', 'votes': '897,136', 'us_gross': '$363.07M'}, {'title': 'Harry Potter and the Deathly Hallows: Part 2', 'year': '(2011)', 'runtime': '130 min', 'imdb_rating': 8.1, 'meta_score': '85        ', 'votes': '758,116', 'us_gross': '$381.01M'}, {'title': 'Green Book', 'year': '(2018)', 'runtime': '130 min', 'imdb_rating': 8.2, 'meta_score': '69        ', 'votes': '366,351', 'us_gross': '$85.08M'}, {'title': 'Blade Runner 2049', 'year': '(2017)', 'runtime': '164 min', 'imdb_rating': 8.0, 'meta_score': '81        ', 'votes': '455,832', 'us_gross': '$92.05M'}, {'title': 'The Lord of the Rings: The Return of the King', 'year': '(2003)', 'runtime': '201 min', 'imdb_rating': 8.9, 'meta_score': '94        ', 'votes': '1,631,683', 'us_gross': '$377.85M'}, {'title': 'Star Wars: Episode V - The Empire Strikes Back', 'year': '(1980)', 'runtime': '124 min', 'imdb_rating': 8.7, 'meta_score': '82        ', 'votes': '1,151,354', 'us_gross': '$290.48M'}, {'title': 'Gladiator', 'year': '(2000)', 'runtime': '155 min', 'imdb_rating': 8.5, 'meta_score': '67        ', 'votes': '1,332,145', 'us_gross': '$187.71M'}]\n"
     ]
    }
   ],
   "source": [
    "print(movies)"
   ]
  },
  {
   "cell_type": "code",
   "execution_count": 7,
   "metadata": {},
   "outputs": [],
   "source": [
    "movies_df = pd.DataFrame(movies)"
   ]
  },
  {
   "cell_type": "code",
   "execution_count": 8,
   "metadata": {},
   "outputs": [],
   "source": [
    "movies_df['year'] = movies_df['year'].str.extract('(\\d+)').astype(int)\n",
    "movies_df['runtime'] = movies_df['runtime'].str.extract('(\\d+)').astype(int)\n",
    "movies_df['meta_score'] = movies_df['meta_score'].astype(int)\n",
    "movies_df['votes'] = movies_df['votes'].str.replace(',', '').astype(int)\n",
    "movies_df['us_gross'] = movies_df['us_gross'].map(lambda x: x.lstrip('$').rstrip('M'))\n",
    "movies_df['us_gross'] = pd.to_numeric(movies_df['us_gross'])\n",
    "# movies_df['us_gross'] = pd.to_numeric(movies['us_gross'], errors='coerce')"
   ]
  },
  {
   "cell_type": "code",
   "execution_count": 9,
   "metadata": {},
   "outputs": [
    {
     "data": {
      "text/html": [
       "<div>\n",
       "<style scoped>\n",
       "    .dataframe tbody tr th:only-of-type {\n",
       "        vertical-align: middle;\n",
       "    }\n",
       "\n",
       "    .dataframe tbody tr th {\n",
       "        vertical-align: top;\n",
       "    }\n",
       "\n",
       "    .dataframe thead th {\n",
       "        text-align: right;\n",
       "    }\n",
       "</style>\n",
       "<table border=\"1\" class=\"dataframe\">\n",
       "  <thead>\n",
       "    <tr style=\"text-align: right;\">\n",
       "      <th></th>\n",
       "      <th>title</th>\n",
       "      <th>year</th>\n",
       "      <th>runtime</th>\n",
       "      <th>imdb_rating</th>\n",
       "      <th>meta_score</th>\n",
       "      <th>votes</th>\n",
       "      <th>us_gross</th>\n",
       "    </tr>\n",
       "  </thead>\n",
       "  <tbody>\n",
       "    <tr>\n",
       "      <th>0</th>\n",
       "      <td>Soul</td>\n",
       "      <td>2020</td>\n",
       "      <td>100</td>\n",
       "      <td>8.2</td>\n",
       "      <td>85</td>\n",
       "      <td>60121</td>\n",
       "      <td>NaN</td>\n",
       "    </tr>\n",
       "    <tr>\n",
       "      <th>1</th>\n",
       "      <td>It's a Wonderful Life</td>\n",
       "      <td>1946</td>\n",
       "      <td>130</td>\n",
       "      <td>8.6</td>\n",
       "      <td>89</td>\n",
       "      <td>401027</td>\n",
       "      <td>NaN</td>\n",
       "    </tr>\n",
       "    <tr>\n",
       "      <th>2</th>\n",
       "      <td>Home Alone</td>\n",
       "      <td>1990</td>\n",
       "      <td>103</td>\n",
       "      <td>7.6</td>\n",
       "      <td>63</td>\n",
       "      <td>478684</td>\n",
       "      <td>285.76</td>\n",
       "    </tr>\n",
       "    <tr>\n",
       "      <th>3</th>\n",
       "      <td>A Christmas Story</td>\n",
       "      <td>1983</td>\n",
       "      <td>93</td>\n",
       "      <td>7.9</td>\n",
       "      <td>77</td>\n",
       "      <td>131737</td>\n",
       "      <td>20.61</td>\n",
       "    </tr>\n",
       "    <tr>\n",
       "      <th>4</th>\n",
       "      <td>Die Hard</td>\n",
       "      <td>1988</td>\n",
       "      <td>132</td>\n",
       "      <td>8.2</td>\n",
       "      <td>72</td>\n",
       "      <td>785798</td>\n",
       "      <td>83.01</td>\n",
       "    </tr>\n",
       "  </tbody>\n",
       "</table>\n",
       "</div>"
      ],
      "text/plain": [
       "                   title  year  runtime  imdb_rating  meta_score   votes  \\\n",
       "0                   Soul  2020      100          8.2          85   60121   \n",
       "1  It's a Wonderful Life  1946      130          8.6          89  401027   \n",
       "2             Home Alone  1990      103          7.6          63  478684   \n",
       "3      A Christmas Story  1983       93          7.9          77  131737   \n",
       "4               Die Hard  1988      132          8.2          72  785798   \n",
       "\n",
       "   us_gross  \n",
       "0       NaN  \n",
       "1       NaN  \n",
       "2    285.76  \n",
       "3     20.61  \n",
       "4     83.01  "
      ]
     },
     "execution_count": 9,
     "metadata": {},
     "output_type": "execute_result"
    }
   ],
   "source": [
    "movies_df.head()"
   ]
  },
  {
   "cell_type": "code",
   "execution_count": 10,
   "metadata": {},
   "outputs": [
    {
     "data": {
      "text/plain": [
       "title           object\n",
       "year             int64\n",
       "runtime          int64\n",
       "imdb_rating    float64\n",
       "meta_score       int64\n",
       "votes            int64\n",
       "us_gross       float64\n",
       "dtype: object"
      ]
     },
     "execution_count": 10,
     "metadata": {},
     "output_type": "execute_result"
    }
   ],
   "source": [
    "movies_df.dtypes"
   ]
  },
  {
   "cell_type": "code",
   "execution_count": null,
   "metadata": {},
   "outputs": [],
   "source": []
  },
  {
   "cell_type": "code",
   "execution_count": null,
   "metadata": {},
   "outputs": [],
   "source": []
  },
  {
   "cell_type": "code",
   "execution_count": null,
   "metadata": {},
   "outputs": [],
   "source": []
  }
 ],
 "metadata": {
  "kernelspec": {
   "display_name": "Python 3",
   "language": "python",
   "name": "python3"
  },
  "language_info": {
   "codemirror_mode": {
    "name": "ipython",
    "version": 3
   },
   "file_extension": ".py",
   "mimetype": "text/x-python",
   "name": "python",
   "nbconvert_exporter": "python",
   "pygments_lexer": "ipython3",
   "version": "3.8.7"
  }
 },
 "nbformat": 4,
 "nbformat_minor": 4
}
